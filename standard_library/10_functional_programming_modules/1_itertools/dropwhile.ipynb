{
 "cells": [
  {
   "cell_type": "markdown",
   "metadata": {
    "collapsed": true
   },
   "source": [
    "itertools.dropwhile(predicate, iterable)\n",
    "\n",
    "* predicate - ?\n",
    "* iterable - a sequence of items"
   ]
  },
  {
   "cell_type": "code",
   "execution_count": 15,
   "metadata": {},
   "outputs": [
    {
     "name": "stdout",
     "output_type": "stream",
     "text": [
      "[4, 5, 4, 3, 2, 1, 0]\n"
     ]
    }
   ],
   "source": [
    "import itertools\n",
    "\n",
    "\n",
    "def predicate(x):\n",
    "    if x <= 3:\n",
    "        return True\n",
    "    return False\n",
    "\n",
    "\n",
    "d = itertools.dropwhile(predicate, [0, 1, 2, 3, 4, 5, 4, 3, 2, 1, 0])\n",
    "print(list(d))"
   ]
  },
  {
   "cell_type": "markdown",
   "metadata": {},
   "source": [
    "This appears to be a way to filter iterables.  \n",
    "\n",
    "The \"roughly equivalent\" is below: "
   ]
  },
  {
   "cell_type": "code",
   "execution_count": 18,
   "metadata": {},
   "outputs": [],
   "source": [
    "def dropwhile(predicate, iterable):\n",
    "    \"\"\"\n",
    "    Originally wondered why the iterable was placed in iter(iterable).  This is because the \n",
    "    code wants to loop through each item only once, and in the second for loop, if the iterable\n",
    "    was instead a list, then it would start from the beginning.\n",
    "    \n",
    "    1.  create iter from the iterable\n",
    "    2.  loop through iterable and if the predicate function returns False, then the element \n",
    "        is yielded and breaks.  (drop if true, so don't yield)\n",
    "    3.  loop through the remaining in iterable and yield each\n",
    "    \"\"\"\n",
    "    # 1. \n",
    "    iterable = iter(iterable)\n",
    "    # 2. \n",
    "    for x in iterable:\n",
    "        if not predicate(x):\n",
    "            yield x\n",
    "            break\n",
    "    # 3. \n",
    "    for x in iterable:\n",
    "        yield x\n",
    "            "
   ]
  },
  {
   "cell_type": "markdown",
   "metadata": {},
   "source": [
    "This seems like an odd function.  I can't think of a case to use this, my instinct is to sort the list and treat it like a filtering function rather than dropping until the predicate is False."
   ]
  },
  {
   "cell_type": "code",
   "execution_count": null,
   "metadata": {},
   "outputs": [],
   "source": []
  }
 ],
 "metadata": {
  "kernelspec": {
   "display_name": "Python 2",
   "language": "python",
   "name": "python2"
  },
  "language_info": {
   "codemirror_mode": {
    "name": "ipython",
    "version": 2
   },
   "file_extension": ".py",
   "mimetype": "text/x-python",
   "name": "python",
   "nbconvert_exporter": "python",
   "pygments_lexer": "ipython2",
   "version": "2.7.6"
  }
 },
 "nbformat": 4,
 "nbformat_minor": 0
}
