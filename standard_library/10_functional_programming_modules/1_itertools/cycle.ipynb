{
 "cells": [
  {
   "cell_type": "markdown",
   "metadata": {
    "collapsed": true
   },
   "source": [
    "itertools.cycle(iterable)\n",
    "\n",
    "* iterable - a sequence which you wish to cycle through\n"
   ]
  },
  {
   "cell_type": "code",
   "execution_count": 3,
   "metadata": {},
   "outputs": [
    {
     "name": "stdout",
     "output_type": "stream",
     "text": [
      "0\n1\n2\n3\n0\n1\n2\n"
     ]
    }
   ],
   "source": [
    "import itertools\n",
    "\n",
    "r = range(4)\n",
    "c = itertools.cycle(r)\n",
    "hold = []\n",
    "for i in c:\n",
    "    if i == 3:\n",
    "        hold.append(i)\n",
    "    if len(hold) == 2:\n",
    "        break\n",
    "    print(i)"
   ]
  },
  {
   "cell_type": "markdown",
   "metadata": {},
   "source": [
    "The \"roughly equivalent\" is:"
   ]
  },
  {
   "cell_type": "code",
   "execution_count": 4,
   "metadata": {},
   "outputs": [],
   "source": [
    "def cycle(iterable):\n",
    "    \"\"\"\n",
    "    1.  we can't go backwards or reset an iterator, so we save the elements in saved\n",
    "    2.  yield each element as you go through them, and then save to saved\n",
    "    3.  do this forever:  go through each element in saved and yield the element \n",
    "        (note:  i thought this would error at first because I didn't see how the element\n",
    "        would re-set.  then I stepped though the code and realized the element reset once \n",
    "        the \"while saved:\" gets executed again.)\n",
    "    \"\"\"\n",
    "    # 1. \n",
    "    saved = []\n",
    "    # 2. \n",
    "    for element in iterable:\n",
    "        yield element\n",
    "        saved.append(element)\n",
    "    # 3. \n",
    "    while saved:\n",
    "        for element in saved:\n",
    "            yield element\n",
    "            "
   ]
  },
  {
   "cell_type": "code",
   "execution_count": null,
   "metadata": {},
   "outputs": [],
   "source": []
  }
 ],
 "metadata": {
  "kernelspec": {
   "display_name": "Python 2",
   "language": "python",
   "name": "python2"
  },
  "language_info": {
   "codemirror_mode": {
    "name": "ipython",
    "version": 2
   },
   "file_extension": ".py",
   "mimetype": "text/x-python",
   "name": "python",
   "nbconvert_exporter": "python",
   "pygments_lexer": "ipython2",
   "version": "2.7.6"
  }
 },
 "nbformat": 4,
 "nbformat_minor": 0
}
