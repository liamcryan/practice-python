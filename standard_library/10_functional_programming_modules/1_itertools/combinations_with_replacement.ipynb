{
 "cells": [
  {
   "cell_type": "markdown",
   "metadata": {
    "collapsed": true
   },
   "source": [
    "Let's start with an example:"
   ]
  },
  {
   "cell_type": "code",
   "execution_count": 1,
   "metadata": {},
   "outputs": [
    {
     "data": {
      "text/plain": [
       "[('A', 'A', 'A'),\n ('A', 'A', 'B'),\n ('A', 'A', 'C'),\n ('A', 'A', 'D'),\n ('A', 'B', 'B'),\n ('A', 'B', 'C'),\n ('A', 'B', 'D'),\n ('A', 'C', 'C'),\n ('A', 'C', 'D'),\n ('A', 'D', 'D'),\n ('B', 'B', 'B'),\n ('B', 'B', 'C'),\n ('B', 'B', 'D'),\n ('B', 'C', 'C'),\n ('B', 'C', 'D'),\n ('B', 'D', 'D'),\n ('C', 'C', 'C'),\n ('C', 'C', 'D'),\n ('C', 'D', 'D'),\n ('D', 'D', 'D')]"
      ]
     },
     "execution_count": 1,
     "metadata": {},
     "output_type": "execute_result"
    }
   ],
   "source": [
    "import itertools\n",
    "\n",
    "list(itertools.combinations_with_replacement(\"ABCD\", 3))"
   ]
  },
  {
   "cell_type": "markdown",
   "metadata": {},
   "source": [
    "Combinations with replacement let the same letter repeat itself.\n",
    "\n",
    "Combinations is a subset of combinations with replacement:\n"
   ]
  },
  {
   "cell_type": "code",
   "execution_count": 6,
   "metadata": {},
   "outputs": [
    {
     "data": {
      "text/plain": [
       "[('A', 'B', 'C'), ('A', 'B', 'D'), ('A', 'C', 'D'), ('B', 'C', 'D')]"
      ]
     },
     "execution_count": 6,
     "metadata": {},
     "output_type": "execute_result"
    }
   ],
   "source": [
    "list(itertools.combinations(\"ABCD\", 3))"
   ]
  },
  {
   "cell_type": "markdown",
   "metadata": {},
   "source": [
    "Let's take a look at the 'roughly equivalent' code in the standard library (with comments):"
   ]
  },
  {
   "cell_type": "code",
   "execution_count": 8,
   "metadata": {},
   "outputs": [],
   "source": [
    "def combinations_with_replacement(iterable, r):\n",
    "    # combinations_with_replacement('ABC', 2) --> AA AB AC BB BC CC\n",
    "    pool = tuple(iterable)\n",
    "    n = len(pool)\n",
    "    if not n and r:\n",
    "        return\n",
    "    indices = [0] * r\n",
    "    yield tuple(pool[i] for i in indices)\n",
    "    while True:\n",
    "        for i in reversed(range(r)):\n",
    "            if indices[i] != n - 1:\n",
    "                break\n",
    "        else:\n",
    "            return\n",
    "        indices[i:] = [indices[i] + 1] * (r - i)\n",
    "        yield tuple(pool[i] for i in indices)"
   ]
  },
  {
   "cell_type": "markdown",
   "metadata": {},
   "source": [
    "This is very similar to the combinations function.  \n",
    "\n",
    "The main differences are:\n",
    "1. initializing indices (indices=[0] * r rather than indices=list(range(r))\n",
    "2. the condition which determines whether or not to proceed to the next index in the reversed(range(r)) (indices[i] != n-1 rather than indices[i] != i + n - r\n",
    "3. the approach for left-setting and incrementing the index (indices[i:] = [indices[i] + 1] * (r - 1) rather than for j in range(i + 1, r): indices[j] = indices[j - 1] + 1)\n",
    "\n",
    "Like the combinations algorithm, the combinations_with_replacement algorithm is also difficult to understand.  The good thing is if you understand one, then understanding the other is much more simple.\n",
    "\n",
    ""
   ]
  }
 ],
 "metadata": {
  "kernelspec": {
   "display_name": "Python 2",
   "language": "python",
   "name": "python2"
  },
  "language_info": {
   "codemirror_mode": {
    "name": "ipython",
    "version": 2
   },
   "file_extension": ".py",
   "mimetype": "text/x-python",
   "name": "python",
   "nbconvert_exporter": "python",
   "pygments_lexer": "ipython2",
   "version": "2.7.6"
  }
 },
 "nbformat": 4,
 "nbformat_minor": 0
}
