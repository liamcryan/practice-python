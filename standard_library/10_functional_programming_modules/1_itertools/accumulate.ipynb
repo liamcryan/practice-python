{
 "cells": [
  {
   "cell_type": "markdown",
   "metadata": {},
   "source": [
    "Walking through understanding itertools.accumulate.  First, let's import itertools.  Itertools has a lot of associated functions."
   ]
  },
  {
   "cell_type": "code",
   "execution_count": 1,
   "metadata": {},
   "outputs": [],
   "source": [
    "import itertools"
   ]
  },
  {
   "cell_type": "markdown",
   "metadata": {},
   "source": [
    "The accumulate function takes an iterator and an optional function.\n",
    "\n",
    "***accumulate***:  an itertools function\n",
    "\n",
    "***iterator***:  a sequence of values\n",
    "\n",
    "***func***: (optional) the function to apply on each value.  the default function is operator.add (addition)  \n"
   ]
  },
  {
   "cell_type": "markdown",
   "metadata": {},
   "source": [
    "Let's look at a very basic example.  Let's start with a sequence from 0 to 10 and pass it to the accumulate function.  "
   ]
  },
  {
   "cell_type": "code",
   "execution_count": 2,
   "metadata": {},
   "outputs": [
    {
     "name": "stdout",
     "output_type": "stream",
     "text": [
      "the itertools accumulate object:  <itertools.accumulate object at 0x03DC1B20>\nthe itertools accumulate results list:  [0, 1, 3, 6, 10, 15, 21, 28, 36, 45, 55]\n"
     ]
    }
   ],
   "source": [
    "iterable = range(0, 11)\n",
    "r = itertools.accumulate(iterable)\n",
    "print(\"the itertools accumulate object:  {}\".format(r))\n",
    "print(\"the itertools accumulate results list:  {}\".format(list(r)))"
   ]
  },
  {
   "cell_type": "markdown",
   "metadata": {},
   "source": [
    "From the example, we start to see how the accumulate function works.  \n",
    "0 = 0\n",
    "\n",
    "1 = 0 + 1\n",
    "\n",
    "3 = 0 + 1 + 2\n",
    "\n",
    "6 = 0 + 1 + 2 + 3\n",
    "\n",
    "...\n",
    "\n",
    "Since we did not pass a func argument, the accumulate function used addition."
   ]
  },
  {
   "cell_type": "markdown",
   "metadata": {},
   "source": [
    "Let's try using our own function to apply to each value."
   ]
  },
  {
   "cell_type": "code",
   "execution_count": 3,
   "metadata": {},
   "outputs": [],
   "source": [
    "def our_own_function(a, b):\n",
    "    \"\"\" if b is even, then return a + b + 1, else return 0\"\"\"\n",
    "    \n",
    "    print(\"a: {}  b:{}\".format(a, b))\n",
    "    try:\n",
    "        if b % 2 == 0:\n",
    "            return a + b + 1\n",
    "        else:\n",
    "            return 0\n",
    "    except ZeroDivisionError:\n",
    "        return 0\n",
    "\n"
   ]
  },
  {
   "cell_type": "code",
   "execution_count": 4,
   "metadata": {},
   "outputs": [
    {
     "name": "stdout",
     "output_type": "stream",
     "text": [
      "a: 0  b:1\na: 0  b:2\na: 3  b:3\na: 0  b:4\na: 5  b:5\na: 0  b:6\na: 7  b:7\na: 0  b:8\na: 9  b:9\na: 0  b:10\nthe itertools accumulate results list with our own func:  [0, 0, 3, 0, 5, 0, 7, 0, 9, 0, 11]\n"
     ]
    }
   ],
   "source": [
    "r = itertools.accumulate(iterable, func=our_own_function)\n",
    "print(\"the itertools accumulate results list with our own func:  {}\".format(list(r)))"
   ]
  },
  {
   "cell_type": "heading",
   "metadata": {},
   "level": 2,
   "source": [
    ""
   ]
  },
  {
   "cell_type": "markdown",
   "metadata": {},
   "source": [
    "On docs.python.org, there is a sample function which shows roughly how the accumulate function works.  I am going to copy and paste it below and add some of my own comments."
   ]
  },
  {
   "cell_type": "code",
   "execution_count": 5,
   "metadata": {},
   "outputs": [],
   "source": [
    "\n",
    "import operator\n",
    "\n",
    "\n",
    "def accumulate2(iterable, func=operator.add):\n",
    "    \"\"\" \n",
    "    1. convert the 'iterable' input to a type iter.  (i'm not sure why this is needed, \n",
    "            we'll learn more in )\n",
    "    2. set the total as the first element in 'it' (within try except in case there is no\n",
    "            element)\n",
    "    3. yield the total (this is always only the first element of the 'iterable'\n",
    "    4. for each 'element' in the 'it'\n",
    "    5. pass the 'total' and 'element' values to the 'func' parameter\n",
    "    6. yield the total (this is always the second  to the nth element of the 'it'\n",
    "    \"\"\"\n",
    "    # 1.\n",
    "    it = iter(iterable)\n",
    "    try:\n",
    "        # 2.\n",
    "        total = next(it)\n",
    "    except StopIteration:\n",
    "        return\n",
    "    # 3. \n",
    "    yield total\n",
    "    # 4. \n",
    "    for element in it:\n",
    "        # 5. \n",
    "        total = func(total, element)\n",
    "        # 6. \n",
    "        yield total\n"
   ]
  },
  {
   "cell_type": "code",
   "execution_count": 6,
   "metadata": {},
   "outputs": [
    {
     "name": "stdout",
     "output_type": "stream",
     "text": [
      "the itertools accumulate2 generator:  <generator object accumulate2 at 0x03DD8B40>\nthe itertools accumulate2 results list:  [0, 1, 3, 6, 10, 15, 21, 28, 36, 45, 55]\n"
     ]
    }
   ],
   "source": [
    "\n",
    "iterable = range(0, 11)\n",
    "r = accumulate2(iterable)\n",
    "print(\"the itertools accumulate2 generator:  {}\".format(r))\n",
    "print(\"the itertools accumulate2 results list:  {}\".format(list(r)))"
   ]
  },
  {
   "cell_type": "markdown",
   "metadata": {},
   "source": [
    "It is intersting that the itertools.accumulate function returns an object while the accumulate2 function returns a generator.  ",
    "\n"
   ]
  }
 ],
 "metadata": {
  "kernelspec": {
   "display_name": "Python 2",
   "language": "python",
   "name": "python2"
  },
  "language_info": {
   "codemirror_mode": {
    "name": "ipython",
    "version": 2
   },
   "file_extension": ".py",
   "mimetype": "text/x-python",
   "name": "python",
   "nbconvert_exporter": "python",
   "pygments_lexer": "ipython2",
   "version": "2.7.6"
  }
 },
 "nbformat": 4,
 "nbformat_minor": 0
}
