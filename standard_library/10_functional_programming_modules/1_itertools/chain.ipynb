{
 "cells": [
  {
   "cell_type": "markdown",
   "metadata": {
    "collapsed": true
   },
   "source": [
    "Let's see how the chain function works.  We'll start by importing itertools and then looking into chain."
   ]
  },
  {
   "cell_type": "code",
   "execution_count": 4,
   "metadata": {},
   "outputs": [],
   "source": [
    "import itertools"
   ]
  },
  {
   "cell_type": "markdown",
   "metadata": {},
   "source": [
    "The chain function takes in one or more iterables.\n",
    "\n",
    "***chain***: itertools function\n",
    "\n",
    "***iterables***: one or more sequence of values"
   ]
  },
  {
   "cell_type": "markdown",
   "metadata": {},
   "source": [
    "Going to start with a simple example"
   ]
  },
  {
   "cell_type": "code",
   "execution_count": 12,
   "metadata": {},
   "outputs": [
    {
     "name": "stdout",
     "output_type": "stream",
     "text": [
      "the itertools chain object: <itertools.chain object at 0x105ae1ef0>\nthe itertools chain results list: [0, 1, 2, 3, 4, 5, 6, 7, 8, 9]\nthe itertools chain results string: 0, 1, 2, 3, 4, 5, 6, 7, 8, 9\n"
     ]
    }
   ],
   "source": [
    "iterables = (range(0, 5), range(5, 10))\n",
    "\n",
    "r = itertools.chain(*iterables)\n",
    "print(\"the itertools chain object: {}\".format(r))\n",
    "r_list = list(r)\n",
    "print(\"the itertools chain results list: {}\".format(r_list))\n",
    "print(\"the itertools chain results string: {}\".format(str(r_list)[1:-1]))"
   ]
  },
  {
   "cell_type": "markdown",
   "metadata": {},
   "source": [
    "The standard library docs have an example of the rough equivalent.  Let's copy and paste it with some comments"
   ]
  },
  {
   "cell_type": "code",
   "execution_count": 11,
   "metadata": {},
   "outputs": [],
   "source": [
    "def chain2(*iterables):\n",
    "    \"\"\"\n",
    "    1.  for each iterable\n",
    "    2.  loop through each element\n",
    "    3.  and yield the element\n",
    "    \n",
    "    \"\"\"\n",
    "    # 1. \n",
    "    for it in iterables:\n",
    "        # 2. \n",
    "        for element in it:\n",
    "            # 3. \n",
    "            yield element"
   ]
  },
  {
   "cell_type": "markdown",
   "metadata": {},
   "source": [
    ""
   ]
  }
 ],
 "metadata": {
  "kernelspec": {
   "display_name": "Python 2",
   "language": "python",
   "name": "python2"
  },
  "language_info": {
   "codemirror_mode": {
    "name": "ipython",
    "version": 2
   },
   "file_extension": ".py",
   "mimetype": "text/x-python",
   "name": "python",
   "nbconvert_exporter": "python",
   "pygments_lexer": "ipython2",
   "version": "2.7.6"
  }
 },
 "nbformat": 4,
 "nbformat_minor": 0
}
