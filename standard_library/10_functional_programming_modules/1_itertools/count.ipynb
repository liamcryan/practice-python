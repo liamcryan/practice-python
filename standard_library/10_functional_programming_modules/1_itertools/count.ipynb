{
 "cells": [
  {
   "cell_type": "markdown",
   "metadata": {
    "collapsed": true
   },
   "source": [
    "itertools.count(start, step)\n",
    "\n",
    "* start - the integer/float which you want to start counting\n",
    "* step - the interval which you wish to increment by"
   ]
  },
  {
   "cell_type": "code",
   "execution_count": 1,
   "metadata": {},
   "outputs": [
    {
     "name": "stdout",
     "output_type": "stream",
     "text": [
      "count(10, -1)\n10\n9\n8\n7\n6\n5\n4\n3\n2\n1\n"
     ]
    }
   ],
   "source": [
    "import itertools\n",
    "c = itertools.count(10, -1)\n",
    "print(c)\n",
    "for i in c:\n",
    "    if i == 0:\n",
    "        break\n",
    "    print(i)"
   ]
  },
  {
   "cell_type": "markdown",
   "metadata": {},
   "source": [
    "Here's the \"roughly equivalent\""
   ]
  },
  {
   "cell_type": "code",
   "execution_count": 5,
   "metadata": {},
   "outputs": [],
   "source": [
    "def count(start, step):\n",
    "    \"\"\"\n",
    "    1.  We need to keep track of the count, so start by setting start to n\n",
    "    2.  We are doing this forever, so while True sounds good\n",
    "    3.  yield the count (n) and then add one to the count after each yield\n",
    "    \"\"\"\n",
    "    # 1. \n",
    "    n = start\n",
    "    # 2. \n",
    "    while True:\n",
    "        # 3.  \n",
    "        yield n\n",
    "        n += step"
   ]
  },
  {
   "cell_type": "code",
   "execution_count": null,
   "metadata": {},
   "outputs": [],
   "source": []
  }
 ],
 "metadata": {
  "kernelspec": {
   "display_name": "Python 2",
   "language": "python",
   "name": "python2"
  },
  "language_info": {
   "codemirror_mode": {
    "name": "ipython",
    "version": 2
   },
   "file_extension": ".py",
   "mimetype": "text/x-python",
   "name": "python",
   "nbconvert_exporter": "python",
   "pygments_lexer": "ipython2",
   "version": "2.7.6"
  }
 },
 "nbformat": 4,
 "nbformat_minor": 0
}
