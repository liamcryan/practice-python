{
 "cells": [
  {
   "cell_type": "markdown",
   "metadata": {
    "collapsed": true
   },
   "source": [
    "Looking into itertools.compress.  What does it do and how does it work?\n",
    "\n",
    "Let's start with a basic example:"
   ]
  },
  {
   "cell_type": "code",
   "execution_count": 1,
   "metadata": {},
   "outputs": [
    {
     "name": "stdout",
     "output_type": "stream",
     "text": [
      "[5]\n"
     ]
    }
   ],
   "source": [
    "import itertools\n",
    "data = [1, 2, 3, 4, 5]\n",
    "selectors = [0, 0, 0, 0, 1]\n",
    "print(list(itertools.compress(data=data, selectors=selectors)))"
   ]
  },
  {
   "cell_type": "markdown",
   "metadata": {},
   "source": [
    "The \"roughly equivalen to\" is:"
   ]
  },
  {
   "cell_type": "code",
   "execution_count": 3,
   "metadata": {},
   "outputs": [],
   "source": [
    "def compress(data, selectors):\n",
    "    # compress('ABCDEF', [1,0,1,0,1,1]) --> A C E F\n",
    "    return (d for d, s in zip(data, selectors) if s)"
   ]
  },
  {
   "cell_type": "markdown",
   "metadata": {},
   "source": [
    "Notice that any s evaluating to True will select the data.\n",
    "\n",
    "This means:\n",
    "* selector = [1, \"A\", 2, \"B\", 5, \"C\"] will select all data\n",
    "* selector = [None, \"\", [], {}, (), 0] will select no data"
   ]
  },
  {
   "cell_type": "code",
   "execution_count": null,
   "metadata": {},
   "outputs": [],
   "source": []
  }
 ],
 "metadata": {
  "kernelspec": {
   "display_name": "Python 2",
   "language": "python",
   "name": "python2"
  },
  "language_info": {
   "codemirror_mode": {
    "name": "ipython",
    "version": 2
   },
   "file_extension": ".py",
   "mimetype": "text/x-python",
   "name": "python",
   "nbconvert_exporter": "python",
   "pygments_lexer": "ipython2",
   "version": "2.7.6"
  }
 },
 "nbformat": 4,
 "nbformat_minor": 0
}
