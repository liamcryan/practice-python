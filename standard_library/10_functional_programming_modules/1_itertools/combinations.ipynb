{
 "cells": [
  {
   "cell_type": "markdown",
   "metadata": {
    "collapsed": true
   },
   "source": [
    "Now we will be looking at itertools.combinations.\n",
    "\n",
    "Function:\n",
    "* ***combinations***: an itertools function\n",
    "\n",
    "Arguments:\n",
    "* ***iterable***: a sequence of values of which we want combinations of\n",
    "* ***r***: desired length of output subsequences\n",
    "\n",
    "Returns:\n",
    "* ***combinations object***"
   ]
  },
  {
   "cell_type": "code",
   "execution_count": 11,
   "metadata": {},
   "outputs": [
    {
     "name": "stdout",
     "output_type": "stream",
     "text": [
      "the itertools combinations list of subsequence 0:\n[()]\n\nthe itertools combinations list of subsequence 1:\n[('A',), ('B',), ('C',), ('D',), ('E',), ('F',), ('G',)]\n\nthe itertools combinations list of subsequence 2:\n[('A', 'B'), ('A', 'C'), ('A', 'D'), ('A', 'E'), ('A', 'F'), ('A', 'G'), ('B', 'C'), ('B', 'D'), ('B', 'E'), ('B', 'F'), ('B', 'G'), ('C', 'D'), ('C', 'E'), ('C', 'F'), ('C', 'G'), ('D', 'E'), ('D', 'F'), ('D', 'G'), ('E', 'F'), ('E', 'G'), ('F', 'G')]\n\nthe itertools combinations list of subsequence 3:\n[('A', 'B', 'C'), ('A', 'B', 'D'), ('A', 'B', 'E'), ('A', 'B', 'F'), ('A', 'B', 'G'), ('A', 'C', 'D'), ('A', 'C', 'E'), ('A', 'C', 'F'), ('A', 'C', 'G'), ('A', 'D', 'E'), ('A', 'D', 'F'), ('A', 'D', 'G'), ('A', 'E', 'F'), ('A', 'E', 'G'), ('A', 'F', 'G'), ('B', 'C', 'D'), ('B', 'C', 'E'), ('B', 'C', 'F'), ('B', 'C', 'G'), ('B', 'D', 'E'), ('B', 'D', 'F'), ('B', 'D', 'G'), ('B', 'E', 'F'), ('B', 'E', 'G'), ('B', 'F', 'G'), ('C', 'D', 'E'), ('C', 'D', 'F'), ('C', 'D', 'G'), ('C', 'E', 'F'), ('C', 'E', 'G'), ('C', 'F', 'G'), ('D', 'E', 'F'), ('D', 'E', 'G'), ('D', 'F', 'G'), ('E', 'F', 'G')]\n\nthe itertools combinations list of subsequence 4:\n[('A', 'B', 'C', 'D'), ('A', 'B', 'C', 'E'), ('A', 'B', 'C', 'F'), ('A', 'B', 'C', 'G'), ('A', 'B', 'D', 'E'), ('A', 'B', 'D', 'F'), ('A', 'B', 'D', 'G'), ('A', 'B', 'E', 'F'), ('A', 'B', 'E', 'G'), ('A', 'B', 'F', 'G'), ('A', 'C', 'D', 'E'), ('A', 'C', 'D', 'F'), ('A', 'C', 'D', 'G'), ('A', 'C', 'E', 'F'), ('A', 'C', 'E', 'G'), ('A', 'C', 'F', 'G'), ('A', 'D', 'E', 'F'), ('A', 'D', 'E', 'G'), ('A', 'D', 'F', 'G'), ('A', 'E', 'F', 'G'), ('B', 'C', 'D', 'E'), ('B', 'C', 'D', 'F'), ('B', 'C', 'D', 'G'), ('B', 'C', 'E', 'F'), ('B', 'C', 'E', 'G'), ('B', 'C', 'F', 'G'), ('B', 'D', 'E', 'F'), ('B', 'D', 'E', 'G'), ('B', 'D', 'F', 'G'), ('B', 'E', 'F', 'G'), ('C', 'D', 'E', 'F'), ('C', 'D', 'E', 'G'), ('C', 'D', 'F', 'G'), ('C', 'E', 'F', 'G'), ('D', 'E', 'F', 'G')]\n\nthe itertools combinations list of subsequence 5:\n[('A', 'B', 'C', 'D', 'E'), ('A', 'B', 'C', 'D', 'F'), ('A', 'B', 'C', 'D', 'G'), ('A', 'B', 'C', 'E', 'F'), ('A', 'B', 'C', 'E', 'G'), ('A', 'B', 'C', 'F', 'G'), ('A', 'B', 'D', 'E', 'F'), ('A', 'B', 'D', 'E', 'G'), ('A', 'B', 'D', 'F', 'G'), ('A', 'B', 'E', 'F', 'G'), ('A', 'C', 'D', 'E', 'F'), ('A', 'C', 'D', 'E', 'G'), ('A', 'C', 'D', 'F', 'G'), ('A', 'C', 'E', 'F', 'G'), ('A', 'D', 'E', 'F', 'G'), ('B', 'C', 'D', 'E', 'F'), ('B', 'C', 'D', 'E', 'G'), ('B', 'C', 'D', 'F', 'G'), ('B', 'C', 'E', 'F', 'G'), ('B', 'D', 'E', 'F', 'G'), ('C', 'D', 'E', 'F', 'G')]\n\nthe itertools combinations list of subsequence 6:\n[('A', 'B', 'C', 'D', 'E', 'F'), ('A', 'B', 'C', 'D', 'E', 'G'), ('A', 'B', 'C', 'D', 'F', 'G'), ('A', 'B', 'C', 'E', 'F', 'G'), ('A', 'B', 'D', 'E', 'F', 'G'), ('A', 'C', 'D', 'E', 'F', 'G'), ('B', 'C', 'D', 'E', 'F', 'G')]\n\nthe itertools combinations list of subsequence 7:\n[('A', 'B', 'C', 'D', 'E', 'F', 'G')]\n\nthe itertools combinations list of subsequence 8:\n[]\n\n"
     ]
    }
   ],
   "source": [
    "import itertools\n",
    "iterable = \"ABCDEFG\"\n",
    "rs = (0, 1, 2, 3, 4, 5, 6, 7, 8)\n",
    "for r in rs:\n",
    "    c = itertools.combinations(iterable, r)\n",
    "\n",
    "    print(\"the itertools combinations list of subsequence {}:\\n{}\\n\".format(r, list(c)))"
   ]
  },
  {
   "cell_type": "markdown",
   "metadata": {},
   "source": [
    "The simple example above has displayed how the output changes given varying input 'r'.\n",
    "\n",
    "Note that for subsequence of 0, the element within the list is ().  For a subsequence of 8 (outside \"ABCDEFG\"), there is no element within the list.\n",
    "\n",
    "This seems to be true because there exists a subsequence of 0 within each element in \"ABCDEFG\".  There does not exist an element with subsequence of 8 within \"ABCDEFG\"."
   ]
  },
  {
   "cell_type": "markdown",
   "metadata": {},
   "source": [
    "Here is a visual representation for how this is working.  Assume we still have \"ABCDEFG\" and 'r' = 3.\n",
    "\n",
    "Suppose:\n",
    "* A: 0\n",
    "* B: 1\n",
    "* C: 2\n",
    "* D: 3\n",
    "* E: 4\n",
    "* F: 5\n",
    "* G: 6\n",
    "\n",
    "We want something like this:\n",
    "\n",
    "* yield A, B, C\n",
    "* yield A, B, D\n",
    "* yield A, B, E\n",
    "* yield A, B, F\n",
    "* yield A, B, G\n",
    "* yield A, C, D\n",
    "* yield A, C, E\n",
    "* yield A, C, F\n",
    "* yield A, C, G\n",
    "* ...\n",
    "* yield D, E, F\n",
    "* yield D, E, G\n",
    "* yield D, F, G\n",
    "* yield E, F, G\n",
    "\n",
    "\n",
    "Notice that combinations do not repeat themselves...ABC is the same as BAC and CAB, so only ABC is displayed\n"
   ]
  },
  {
   "cell_type": "markdown",
   "metadata": {},
   "source": [
    "There is a roughly equivalent exampl in the standard library.  Let's copy, paste and comment."
   ]
  },
  {
   "cell_type": "code",
   "execution_count": 82,
   "metadata": {},
   "outputs": [],
   "source": [
    "def combinations2(iterable, r):\n",
    "    \"\"\"\n",
    "    1.  create a tuple from the iterator\n",
    "    2.  determine if r is too big for the iterable size\n",
    "    3.  get the indices corresponding to r\n",
    "    4.  yield the first tuple (will always be the first r elements of the iterable in sequential order; A, B, C, above)\n",
    "    5.  loop through the remaining n choose r - 1 combinations\n",
    "    6.  add 1 to the current index if certain conditions are met\n",
    "    7.  and yield the tuple ( ABx, x = C, D, E, F, G ) \n",
    "    \n",
    "    \"\"\"\n",
    "    # 1. \n",
    "    pool = tuple(iterable)\n",
    "    # 2. \n",
    "    n = len(pool)\n",
    "    if r > n:\n",
    "        return\n",
    "    # 3. \n",
    "    indices = list(range(r))\n",
    "    # 4.  \n",
    "    print(\"yielding first tuple, index combination: \\t\\t{}: {}\".format(tuple(pool[i] for i in indices),\n",
    "                                                                       tuple(i for i in indices)))\n",
    "    yield tuple(pool[i] for i in indices)\n",
    "\n",
    "    # 5.  \n",
    "    while True:\n",
    "        # 6. \n",
    "        for i in reversed(range(r)):\n",
    "            if indices[i] != i + n - r:\n",
    "                if i == 0:\n",
    "                    t = \"\\t                 +\"\n",
    "                elif i == 1:\n",
    "                    t = \"\\t\\t   +\"\n",
    "                else:\n",
    "                    t = \"\\t\\t       +\"\n",
    "                print(\"reached last element in current index, do add 1 to index: {}{}+\".format(t, 1))\n",
    "                break\n",
    "        else:\n",
    "            return\n",
    "        indices[i] += 1\n",
    "        # 7.\n",
    "        for j in range(i + 1, r):\n",
    "            indices[j] = indices[j - 1] + 1\n",
    "        print(\"yielding subsequent tuple, index combination:\\t\\t{}: {},\".format(tuple(pool[i] for i in indices),\n",
    "                                                                                tuple(i for i in indices)))\n",
    "        yield tuple(pool[i] for i in indices)\n"
   ]
  },
  {
   "cell_type": "markdown",
   "metadata": {},
   "source": [
    "I find the above code difficult to understand without experimenting yourself.  I added print statements above for demonstration."
   ]
  },
  {
   "cell_type": "code",
   "execution_count": 81,
   "metadata": {},
   "outputs": [
    {
     "name": "stdout",
     "output_type": "stream",
     "text": [
      "yielding first tuple, index combination: \t\t('A', 'B', 'C'): (0, 1, 2)\nreached last element in current index, do add 1 to index: \t\t       +1+\nyielding subsequent tuple, index combination:\t\t('A', 'B', 'D'): (0, 1, 3),\nreached last element in current index, do add 1 to index: \t\t       +1+\nyielding subsequent tuple, index combination:\t\t('A', 'B', 'E'): (0, 1, 4),\nreached last element in current index, do add 1 to index: \t\t       +1+\nyielding subsequent tuple, index combination:\t\t('A', 'B', 'F'): (0, 1, 5),\nreached last element in current index, do add 1 to index: \t\t       +1+\nyielding subsequent tuple, index combination:\t\t('A', 'B', 'G'): (0, 1, 6),\nreached last element in current index, do add 1 to index: \t\t   +1+\nyielding subsequent tuple, index combination:\t\t('A', 'C', 'D'): (0, 2, 3),\nreached last element in current index, do add 1 to index: \t\t       +1+\nyielding subsequent tuple, index combination:\t\t('A', 'C', 'E'): (0, 2, 4),\nreached last element in current index, do add 1 to index: \t\t       +1+\nyielding subsequent tuple, index combination:\t\t('A', 'C', 'F'): (0, 2, 5),\nreached last element in current index, do add 1 to index: \t\t       +1+\nyielding subsequent tuple, index combination:\t\t('A', 'C', 'G'): (0, 2, 6),\nreached last element in current index, do add 1 to index: \t\t   +1+\nyielding subsequent tuple, index combination:\t\t('A', 'D', 'E'): (0, 3, 4),\nreached last element in current index, do add 1 to index: \t\t       +1+\nyielding subsequent tuple, index combination:\t\t('A', 'D', 'F'): (0, 3, 5),\nreached last element in current index, do add 1 to index: \t\t       +1+\nyielding subsequent tuple, index combination:\t\t('A', 'D', 'G'): (0, 3, 6),\nreached last element in current index, do add 1 to index: \t\t   +1+\nyielding subsequent tuple, index combination:\t\t('A', 'E', 'F'): (0, 4, 5),\nreached last element in current index, do add 1 to index: \t\t       +1+\nyielding subsequent tuple, index combination:\t\t('A', 'E', 'G'): (0, 4, 6),\nreached last element in current index, do add 1 to index: \t\t   +1+\nyielding subsequent tuple, index combination:\t\t('A', 'F', 'G'): (0, 5, 6),\nreached last element in current index, do add 1 to index: \t                 +1+\nyielding subsequent tuple, index combination:\t\t('B', 'C', 'D'): (1, 2, 3),\nreached last element in current index, do add 1 to index: \t\t       +1+\nyielding subsequent tuple, index combination:\t\t('B', 'C', 'E'): (1, 2, 4),\nreached last element in current index, do add 1 to index: \t\t       +1+\nyielding subsequent tuple, index combination:\t\t('B', 'C', 'F'): (1, 2, 5),\nreached last element in current index, do add 1 to index: \t\t       +1+\nyielding subsequent tuple, index combination:\t\t('B', 'C', 'G'): (1, 2, 6),\nreached last element in current index, do add 1 to index: \t\t   +1+\nyielding subsequent tuple, index combination:\t\t('B', 'D', 'E'): (1, 3, 4),\nreached last element in current index, do add 1 to index: \t\t       +1+\nyielding subsequent tuple, index combination:\t\t('B', 'D', 'F'): (1, 3, 5),\nreached last element in current index, do add 1 to index: \t\t       +1+\nyielding subsequent tuple, index combination:\t\t('B', 'D', 'G'): (1, 3, 6),\nreached last element in current index, do add 1 to index: \t\t   +1+\nyielding subsequent tuple, index combination:\t\t('B', 'E', 'F'): (1, 4, 5),\nreached last element in current index, do add 1 to index: \t\t       +1+\nyielding subsequent tuple, index combination:\t\t('B', 'E', 'G'): (1, 4, 6),\nreached last element in current index, do add 1 to index: \t\t   +1+\nyielding subsequent tuple, index combination:\t\t('B', 'F', 'G'): (1, 5, 6),\nreached last element in current index, do add 1 to index: \t                 +1+\nyielding subsequent tuple, index combination:\t\t('C', 'D', 'E'): (2, 3, 4),\nreached last element in current index, do add 1 to index: \t\t       +1+\nyielding subsequent tuple, index combination:\t\t('C', 'D', 'F'): (2, 3, 5),\nreached last element in current index, do add 1 to index: \t\t       +1+\nyielding subsequent tuple, index combination:\t\t('C', 'D', 'G'): (2, 3, 6),\nreached last element in current index, do add 1 to index: \t\t   +1+\nyielding subsequent tuple, index combination:\t\t('C', 'E', 'F'): (2, 4, 5),\nreached last element in current index, do add 1 to index: \t\t       +1+\nyielding subsequent tuple, index combination:\t\t('C', 'E', 'G'): (2, 4, 6),\nreached last element in current index, do add 1 to index: \t\t   +1+\nyielding subsequent tuple, index combination:\t\t('C', 'F', 'G'): (2, 5, 6),\nreached last element in current index, do add 1 to index: \t                 +1+\nyielding subsequent tuple, index combination:\t\t('D', 'E', 'F'): (3, 4, 5),\nreached last element in current index, do add 1 to index: \t\t       +1+\nyielding subsequent tuple, index combination:\t\t('D', 'E', 'G'): (3, 4, 6),\nreached last element in current index, do add 1 to index: \t\t   +1+\nyielding subsequent tuple, index combination:\t\t('D', 'F', 'G'): (3, 5, 6),\nreached last element in current index, do add 1 to index: \t                 +1+\nyielding subsequent tuple, index combination:\t\t('E', 'F', 'G'): (4, 5, 6),\n"
     ]
    },
    {
     "data": {
      "text/plain": [
       "[('A', 'B', 'C'),\n ('A', 'B', 'D'),\n ('A', 'B', 'E'),\n ('A', 'B', 'F'),\n ('A', 'B', 'G'),\n ('A', 'C', 'D'),\n ('A', 'C', 'E'),\n ('A', 'C', 'F'),\n ('A', 'C', 'G'),\n ('A', 'D', 'E'),\n ('A', 'D', 'F'),\n ('A', 'D', 'G'),\n ('A', 'E', 'F'),\n ('A', 'E', 'G'),\n ('A', 'F', 'G'),\n ('B', 'C', 'D'),\n ('B', 'C', 'E'),\n ('B', 'C', 'F'),\n ('B', 'C', 'G'),\n ('B', 'D', 'E'),\n ('B', 'D', 'F'),\n ('B', 'D', 'G'),\n ('B', 'E', 'F'),\n ('B', 'E', 'G'),\n ('B', 'F', 'G'),\n ('C', 'D', 'E'),\n ('C', 'D', 'F'),\n ('C', 'D', 'G'),\n ('C', 'E', 'F'),\n ('C', 'E', 'G'),\n ('C', 'F', 'G'),\n ('D', 'E', 'F'),\n ('D', 'E', 'G'),\n ('D', 'F', 'G'),\n ('E', 'F', 'G')]"
      ]
     },
     "execution_count": 81,
     "metadata": {},
     "output_type": "execute_result"
    }
   ],
   "source": [
    "list(combinations2(\"ABCDEFG\", 3))"
   ]
  },
  {
   "cell_type": "markdown",
   "metadata": {},
   "source": [
    "Interesting note is that the combinations will the order of the input."
   ]
  },
  {
   "cell_type": "code",
   "execution_count": null,
   "metadata": {},
   "outputs": [],
   "source": []
  }
 ],
 "metadata": {
  "kernelspec": {
   "display_name": "Python 2",
   "language": "python",
   "name": "python2"
  },
  "language_info": {
   "codemirror_mode": {
    "name": "ipython",
    "version": 2
   },
   "file_extension": ".py",
   "mimetype": "text/x-python",
   "name": "python",
   "nbconvert_exporter": "python",
   "pygments_lexer": "ipython2",
   "version": "2.7.6"
  }
 },
 "nbformat": 4,
 "nbformat_minor": 0
}
