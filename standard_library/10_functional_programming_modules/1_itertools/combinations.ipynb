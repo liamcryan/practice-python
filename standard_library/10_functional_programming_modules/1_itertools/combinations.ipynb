{
 "cells": [
  {
   "cell_type": "markdown",
   "metadata": {
    "collapsed": true
   },
   "source": [
    "Now we will be looking at itertools.combinations.\n",
    "\n",
    "Function:\n",
    "* ***combinations***: an itertools function\n",
    "\n",
    "Arguments:\n",
    "* ***iterable***: a sequence of values of which we want combinations of\n",
    "* ***r***: desired length of output subsequences\n",
    "\n",
    "Returns:\n",
    "* ***combinations object***"
   ]
  },
  {
   "cell_type": "code",
   "execution_count": 1,
   "metadata": {},
   "outputs": [
    {
     "name": "stdout",
     "output_type": "stream",
     "text": [
      "the itertools combinations list of subsequence 0:\n[()]\n\nthe itertools combinations list of subsequence 1:\n[('A',), ('B',), ('C',), ('D',), ('E',), ('F',), ('G',)]\n\nthe itertools combinations list of subsequence 2:\n[('A', 'B'), ('A', 'C'), ('A', 'D'), ('A', 'E'), ('A', 'F'), ('A', 'G'), ('B', 'C'), ('B', 'D'), ('B', 'E'), ('B', 'F'), ('B', 'G'), ('C', 'D'), ('C', 'E'), ('C', 'F'), ('C', 'G'), ('D', 'E'), ('D', 'F'), ('D', 'G'), ('E', 'F'), ('E', 'G'), ('F', 'G')]\n\nthe itertools combinations list of subsequence 3:\n[('A', 'B', 'C'), ('A', 'B', 'D'), ('A', 'B', 'E'), ('A', 'B', 'F'), ('A', 'B', 'G'), ('A', 'C', 'D'), ('A', 'C', 'E'), ('A', 'C', 'F'), ('A', 'C', 'G'), ('A', 'D', 'E'), ('A', 'D', 'F'), ('A', 'D', 'G'), ('A', 'E', 'F'), ('A', 'E', 'G'), ('A', 'F', 'G'), ('B', 'C', 'D'), ('B', 'C', 'E'), ('B', 'C', 'F'), ('B', 'C', 'G'), ('B', 'D', 'E'), ('B', 'D', 'F'), ('B', 'D', 'G'), ('B', 'E', 'F'), ('B', 'E', 'G'), ('B', 'F', 'G'), ('C', 'D', 'E'), ('C', 'D', 'F'), ('C', 'D', 'G'), ('C', 'E', 'F'), ('C', 'E', 'G'), ('C', 'F', 'G'), ('D', 'E', 'F'), ('D', 'E', 'G'), ('D', 'F', 'G'), ('E', 'F', 'G')]\n\nthe itertools combinations list of subsequence 4:\n[('A', 'B', 'C', 'D'), ('A', 'B', 'C', 'E'), ('A', 'B', 'C', 'F'), ('A', 'B', 'C', 'G'), ('A', 'B', 'D', 'E'), ('A', 'B', 'D', 'F'), ('A', 'B', 'D', 'G'), ('A', 'B', 'E', 'F'), ('A', 'B', 'E', 'G'), ('A', 'B', 'F', 'G'), ('A', 'C', 'D', 'E'), ('A', 'C', 'D', 'F'), ('A', 'C', 'D', 'G'), ('A', 'C', 'E', 'F'), ('A', 'C', 'E', 'G'), ('A', 'C', 'F', 'G'), ('A', 'D', 'E', 'F'), ('A', 'D', 'E', 'G'), ('A', 'D', 'F', 'G'), ('A', 'E', 'F', 'G'), ('B', 'C', 'D', 'E'), ('B', 'C', 'D', 'F'), ('B', 'C', 'D', 'G'), ('B', 'C', 'E', 'F'), ('B', 'C', 'E', 'G'), ('B', 'C', 'F', 'G'), ('B', 'D', 'E', 'F'), ('B', 'D', 'E', 'G'), ('B', 'D', 'F', 'G'), ('B', 'E', 'F', 'G'), ('C', 'D', 'E', 'F'), ('C', 'D', 'E', 'G'), ('C', 'D', 'F', 'G'), ('C', 'E', 'F', 'G'), ('D', 'E', 'F', 'G')]\n\nthe itertools combinations list of subsequence 5:\n[('A', 'B', 'C', 'D', 'E'), ('A', 'B', 'C', 'D', 'F'), ('A', 'B', 'C', 'D', 'G'), ('A', 'B', 'C', 'E', 'F'), ('A', 'B', 'C', 'E', 'G'), ('A', 'B', 'C', 'F', 'G'), ('A', 'B', 'D', 'E', 'F'), ('A', 'B', 'D', 'E', 'G'), ('A', 'B', 'D', 'F', 'G'), ('A', 'B', 'E', 'F', 'G'), ('A', 'C', 'D', 'E', 'F'), ('A', 'C', 'D', 'E', 'G'), ('A', 'C', 'D', 'F', 'G'), ('A', 'C', 'E', 'F', 'G'), ('A', 'D', 'E', 'F', 'G'), ('B', 'C', 'D', 'E', 'F'), ('B', 'C', 'D', 'E', 'G'), ('B', 'C', 'D', 'F', 'G'), ('B', 'C', 'E', 'F', 'G'), ('B', 'D', 'E', 'F', 'G'), ('C', 'D', 'E', 'F', 'G')]\n\nthe itertools combinations list of subsequence 6:\n[('A', 'B', 'C', 'D', 'E', 'F'), ('A', 'B', 'C', 'D', 'E', 'G'), ('A', 'B', 'C', 'D', 'F', 'G'), ('A', 'B', 'C', 'E', 'F', 'G'), ('A', 'B', 'D', 'E', 'F', 'G'), ('A', 'C', 'D', 'E', 'F', 'G'), ('B', 'C', 'D', 'E', 'F', 'G')]\n\nthe itertools combinations list of subsequence 7:\n[('A', 'B', 'C', 'D', 'E', 'F', 'G')]\n\nthe itertools combinations list of subsequence 8:\n[]\n\n"
     ]
    }
   ],
   "source": [
    "import itertools\n",
    "iterable = \"ABCDEFG\"\n",
    "rs = (0, 1, 2, 3, 4, 5, 6, 7, 8)\n",
    "for r in rs:\n",
    "    c = itertools.combinations(iterable, r)\n",
    "\n",
    "    print(\"the itertools combinations list of subsequence {}:\\n{}\\n\".format(r, list(c)))"
   ]
  },
  {
   "cell_type": "markdown",
   "metadata": {},
   "source": [
    "The simple example above has displayed how the output changes given varying input 'r'.\n",
    "\n",
    "Note that for subsequence of 0, the element within the list is ().  For a subsequence of 8 (outside \"ABCDEFG\"), there is no element within the list.\n",
    "\n",
    "This seems to be true because there exists a subsequence of 0 within each element in \"ABCDEFG\".  There does not exist an element with subsequence of 8 within \"ABCDEFG\".\n",
    "\n",
    "Here is the rough equivalent in the python standard library docs (with comments):"
   ]
  },
  {
   "cell_type": "code",
   "execution_count": null,
   "metadata": {},
   "outputs": [],
   "source": [
    "def combinations2(iterable, r):\n",
    "    \"\"\"\n",
    "    This function is somewhat difficult to understand.\n",
    "    \n",
    "    Suppose the iterable is \"ABCD\" and r = 3\n",
    "    the combinations are:\n",
    "    ABC\n",
    "    ABD\n",
    "    ACD\n",
    "    BCD\n",
    "    \n",
    "    each combination is 3 letters long, so we are going to use a variable called indices to represent this:\n",
    "    indices = [0, 1, 2] then\n",
    "              [0, 1, 3] then\n",
    "              [0, 2, 3] then\n",
    "              [1, 2, 3]\n",
    "              \n",
    "    Using the indices we can return the actual letters (0: A, 1: B, 2: C, 3: D)\n",
    "    \n",
    "    The function involves incrementing the appropriate index.\n",
    "    \n",
    "    # 1.  pre-process the iterable \n",
    "    # 2.  if r is too large, then it is impossible to get combinations\n",
    "    # 3.  get the indices (this is what will be manipulated/incremented to output the correct letters)\n",
    "    # 4.  yield the initial tuple (A B C)\n",
    "    # 5.  while true do the following (the loop will be exited by returning None when all combinations have \n",
    "            been yielded)\n",
    "    # 6.  loop through the range (0, 1, 2) in reverse (because we are incrementing right to left) and break out of the \n",
    "            loop if this does not happen: the indices values are (0, 1, 3); (0, 2, 3) (this corresponds to the\n",
    "            if statement below)\n",
    "    # 7.  if the for loop didn't exit with a break, then all combinations have finished, so return None\n",
    "    # 8.  always increment the index of indices! (the tricky part is knowing when)\n",
    "    # 9.  loop through the index to the value of r to determine if we need to 'shift' to the left\n",
    "            that means: do we need to change (0, 1, 2) to (0, 2, 3)?\n",
    "                        do we need to change (0, 2, 3) to (1, 2, 3)?\n",
    "                        \n",
    "    # 10.  always yield the tuple corresponding to the incremented indices\n",
    "    \"\"\"\n",
    "    # 1\n",
    "    pool = tuple(iterable)\n",
    "\n",
    "    # 2\n",
    "    n = len(pool)\n",
    "    if r > n:\n",
    "        return\n",
    "\n",
    "    # 3\n",
    "    indices = list(range(r))\n",
    "\n",
    "    # 4\n",
    "    yield tuple(pool[i] for i in indices)\n",
    "\n",
    "    # 5\n",
    "    while True:\n",
    "        # 6\n",
    "        for i in reversed(range(r)):\n",
    "            if indices[i] != i + n - r:\n",
    "                break\n",
    "        # 7\n",
    "        else:\n",
    "            return\n",
    "        # 8\n",
    "        indices[i] += 1\n",
    "    \n",
    "        # 9\n",
    "        for j in range(i + 1, r):\n",
    "            indices[j] = indices[j - 1] + 1\n",
    "\n",
    "        yield tuple(pool[i] for i in indices)"
   ]
  },
  {
   "cell_type": "markdown",
   "metadata": {},
   "source": [
    "Again, this is pretty difficult to understand.  If you can understand the pieces it will help.\n",
    "\n",
    "Understanding these questions will help:\n",
    "\n",
    "1.  Which part of the algorighm actually changes (A, B, C) -> (A, B, D)?\n",
    "2.  How does the algorithm know when to change from (A, B, D) -> (A, C, D)?\n",
    "3.  How does the algorithm know which index (0, 1, 2, 3) to present prior to any one yield?\n",
    "4.  How does the algorithm know when to quit?\n"
   ]
  },
  {
   "cell_type": "code",
   "execution_count": null,
   "metadata": {},
   "outputs": [],
   "source": []
  }
 ],
 "metadata": {
  "kernelspec": {
   "display_name": "Python 2",
   "language": "python",
   "name": "python2"
  },
  "language_info": {
   "codemirror_mode": {
    "name": "ipython",
    "version": 2
   },
   "file_extension": ".py",
   "mimetype": "text/x-python",
   "name": "python",
   "nbconvert_exporter": "python",
   "pygments_lexer": "ipython2",
   "version": "2.7.6"
  }
 },
 "nbformat": 4,
 "nbformat_minor": 0
}
